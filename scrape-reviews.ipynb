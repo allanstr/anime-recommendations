{
 "cells": [
  {
   "cell_type": "markdown",
   "metadata": {},
   "source": [
    "# Notebook for reviews scrapping from MyAnimeList"
   ]
  },
  {
   "cell_type": "code",
   "execution_count": 1,
   "metadata": {},
   "outputs": [],
   "source": [
    "import requests\n",
    "from bs4 import BeautifulSoup\n",
    "import time\n",
    "from tqdm import tqdm\n",
    "import random\n",
    "import json\n",
    "import pathlib\n",
    "import os"
   ]
  },
  {
   "cell_type": "code",
   "execution_count": 2,
   "metadata": {},
   "outputs": [],
   "source": [
    "def get_reviews_html(url):\n",
    "    headers = {'User-Agent': 'Mozilla/5.0 (Windows NT 10.0; Win64; x64) AppleWebKit/537.36 (KHTML, like Gecko) Chrome/124.0.0.0 Safari/537.36'}\n",
    "    response = requests.get(url, headers=headers)\n",
    "    html_page = BeautifulSoup(response.text, 'html.parser')\n",
    "    reviews_html = html_page.find_all(class_='review-element js-review-element')\n",
    "    return reviews_html"
   ]
  },
  {
   "cell_type": "code",
   "execution_count": 3,
   "metadata": {},
   "outputs": [],
   "source": [
    "class Review:\n",
    "  def __init__(self, html):\n",
    "    self.html = html\n",
    "\n",
    "  def update_date(self):\n",
    "    self.update_date = (self.html\n",
    "                        .find(class_='update_at')\n",
    "                        .get_text(strip=True))\n",
    "    pass\n",
    "\n",
    "  def user_name(self):\n",
    "    self.user_name = (self.html\n",
    "                      .find(class_='username')\n",
    "                      .get_text(strip=True))\n",
    "    pass\n",
    "  \n",
    "  def anime_id(self):\n",
    "    self.anime_id = (self.html\n",
    "                     .find(class_='titleblock mb4')\n",
    "                     .find('a')\n",
    "                     .get('href')\n",
    "                     .split('https://myanimelist.net/anime/')[1]\n",
    "                     .split('/')[0])\n",
    "    pass\n",
    " \n",
    "  def anime(self):\n",
    "    self.anime = (self.html\n",
    "                  .find(class_='titleblock mb4')\n",
    "                  .find('a')\n",
    "                  .get_text(strip=True))\n",
    "    pass\n",
    "  \n",
    "  def tags(self):\n",
    "    self.tags = (self.html\n",
    "                 .find(class_='tags')\n",
    "                 .get_text(';', strip=True)\n",
    "                 .split(';'))\n",
    "    pass\n",
    "  \n",
    "  def text(self):\n",
    "    self.text = (self.html\n",
    "                 .find(class_='text')\n",
    "                 .get_text(';', strip=True))\n",
    "    pass\n",
    "\n",
    "  def get_data(self):\n",
    "    self.update_date()\n",
    "    self.user_name()\n",
    "    self.anime_id()\n",
    "    self.anime()\n",
    "    self.tags()\n",
    "    self.text()\n",
    "    pass\n"
   ]
  },
  {
   "cell_type": "code",
   "execution_count": 25,
   "metadata": {},
   "outputs": [],
   "source": [
    "def scrape_reviews(pages):\n",
    "    reviews = {}\n",
    "    for page in tqdm(pages):\n",
    "        url = f'https://myanimelist.net/reviews.php?t=anime&filter_check=&filter_hide=&preliminary=on&spoiler=off&p={page}'\n",
    "        reviews_html = get_reviews_html(url)\n",
    "        page_reviews = []\n",
    "\n",
    "        for html in reviews_html:\n",
    "            review = Review(html)\n",
    "            review.get_data()\n",
    "            data = vars(review)\n",
    "            data.pop('html')\n",
    "            page_reviews.append(data)\n",
    "        \n",
    "        reviews[page] = page_reviews\n",
    "            \n",
    "        time.sleep(random.randint(2,6))\n",
    "    \n",
    "    return reviews       "
   ]
  },
  {
   "cell_type": "code",
   "execution_count": 27,
   "metadata": {},
   "outputs": [
    {
     "name": "stderr",
     "output_type": "stream",
     "text": [
      "100%|██████████| 3/3 [00:16<00:00,  5.52s/it]\n"
     ]
    }
   ],
   "source": [
    "dir = os.path.join(os.getcwd(), 'data\\\\reviews')\n",
    "pathlib.Path(dir).mkdir(parents=True, exist_ok=True)\n",
    "\n",
    "reviews = scrape_reviews(pages=[1,2,3])\n",
    "\n",
    "with open(f'{dir}\\\\reviews.json', 'w') as f:\n",
    "    json.dump(reviews, f)"
   ]
  }
 ],
 "metadata": {
  "kernelspec": {
   "display_name": ".venv",
   "language": "python",
   "name": "python3"
  },
  "language_info": {
   "codemirror_mode": {
    "name": "ipython",
    "version": 3
   },
   "file_extension": ".py",
   "mimetype": "text/x-python",
   "name": "python",
   "nbconvert_exporter": "python",
   "pygments_lexer": "ipython3",
   "version": "3.9.13"
  }
 },
 "nbformat": 4,
 "nbformat_minor": 2
}
