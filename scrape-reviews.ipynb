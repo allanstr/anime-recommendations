{
 "cells": [
  {
   "cell_type": "markdown",
   "metadata": {},
   "source": [
    "# Notebook for reviews scrapping from MyAnimeList"
   ]
  },
  {
   "cell_type": "code",
   "execution_count": 1,
   "metadata": {},
   "outputs": [],
   "source": [
    "import requests\n",
    "from bs4 import BeautifulSoup\n",
    "import pandas as pd\n",
    "import numpy as np\n",
    "import re\n",
    "import time\n",
    "from tqdm import tqdm\n",
    "import random\n",
    "import json\n",
    "from datetime import datetime\n",
    "import pathlib\n",
    "import os"
   ]
  },
  {
   "cell_type": "code",
   "execution_count": 10,
   "metadata": {},
   "outputs": [],
   "source": [
    "def get_reviews_html(url):\n",
    "    headers = {'User-Agent': 'Mozilla/5.0 (Windows NT 10.0; Win64; x64) AppleWebKit/537.36 (KHTML, like Gecko) Chrome/124.0.0.0 Safari/537.36'}\n",
    "    response = requests.get(url, headers=headers)\n",
    "    html_page = BeautifulSoup(response.text, 'html.parser')\n",
    "    reviews_html = html_page.find_all(class_='review-element js-review-element')\n",
    "    return reviews_html"
   ]
  },
  {
   "cell_type": "code",
   "execution_count": 34,
   "metadata": {},
   "outputs": [],
   "source": [
    "class Review:\n",
    "  def __init__(self, html):\n",
    "    self.html = html\n",
    "\n",
    "  def update_date(self):\n",
    "    self.update_date = (self.html\n",
    "                        .find(class_='update_at')\n",
    "                        .get_text(strip=True))\n",
    "    pass\n",
    "\n",
    "  def user_name(self):\n",
    "    self.user_name = (self.html\n",
    "                      .find(class_='username')\n",
    "                      .get_text(strip=True))\n",
    "    pass\n",
    "  \n",
    "  def anime_id(self):\n",
    "    self.anime_id = (self.html\n",
    "                     .find(class_='titleblock mb4')\n",
    "                     .find('a')\n",
    "                     .get('href')\n",
    "                     .split('https://myanimelist.net/anime/')[1]\n",
    "                     .split('/')[0])\n",
    "    pass\n",
    " \n",
    "  def anime(self):\n",
    "    self.anime = (self.html\n",
    "                  .find(class_='titleblock mb4')\n",
    "                  .find('a')\n",
    "                  .get_text(strip=True))\n",
    "    pass\n",
    "  \n",
    "  def tags(self):\n",
    "    self.tags = (self.html\n",
    "                 .find(class_='tags')\n",
    "                 .get_text(';', strip=True)\n",
    "                 .split(';'))\n",
    "    pass\n",
    "  \n",
    "  def text(self):\n",
    "    self.text = (self.html\n",
    "                 .find(class_='text')\n",
    "                 .get_text(';', strip=True))\n",
    "    pass\n",
    "\n",
    "  def get_data(self):\n",
    "    self.update_date()\n",
    "    self.user_name()\n",
    "    self.anime_id()\n",
    "    self.anime()\n",
    "    self.tags()\n",
    "    self.text()\n",
    "    pass\n"
   ]
  },
  {
   "cell_type": "code",
   "execution_count": null,
   "metadata": {},
   "outputs": [],
   "source": [
    "def scrape_reviews(pages=1):\n",
    "\n",
    "    for page in range(1, pages+1):\n",
    "        url = f'https://myanimelist.net/reviews.php?t=anime&filter_check=&filter_hide=&preliminary=on&spoiler=off&p={page}'\n",
    "        reviews_html = get_reviews_html(url)\n",
    "\n",
    "        for review_html in review_html:\n",
    "            review = Review(reviews_html[3])\n",
    "            review.get_data()\n",
    "            data = vars(review)\n",
    "            data.pop('html')\n",
    "            break\n",
    "        break\n",
    "    pass       "
   ]
  },
  {
   "cell_type": "code",
   "execution_count": 12,
   "metadata": {},
   "outputs": [],
   "source": [
    "reviews_html = get_reviews_html('https://myanimelist.net/reviews.php?t=anime&filter_check=&filter_hide=&preliminary=on&spoiler=off&p=1')"
   ]
  },
  {
   "cell_type": "code",
   "execution_count": 39,
   "metadata": {},
   "outputs": [
    {
     "data": {
      "text/plain": [
       "{'update_date': 'May 25, 2024',\n",
       " 'user_name': 'SevenLegends',\n",
       " 'anime_id': '55888',\n",
       " 'anime': 'Mushoku Tensei II: Isekai Ittara Honki Dasu Part 2',\n",
       " 'tags': ['Recommended', 'Preliminary', '(5/12 eps)'],\n",
       " 'text': \"It's crazy to see reviews on Jobless season 2 and see reviewers talk about how drama filled this particular season is, how it's lost it's magic from season 1, or the action being completely absent and turned into a boring mess. I'd argue extremely differently. This season is absolutely amazing when it comes to it's character work and properly developing said characters. I mean, that's essentially what season 1 was all about too. It just so happens that it was accompanied with a lot of really good action set pieces. There was a lot of character work  back then and even more now. People;...;just didn't notice it because they were enthralled with all the action scenes.;This anime was always focused on drama and character building. It wasn't originally an adventure action show turned drama. It was ALWAYS a drama from the beginning with the action pieces being a medium to engage in that type of story telling. Without even looking at Rudeus, look at the other characters. Roxy, Eris, Paul, Ruijerd. Sylphi, Nanahoshi, and more recently Norn, have all gone through massive changes throughout their run time with many other characters following suit. I mean look at the second half of season 1 for example. Rudeus, Eris, and especially Ruijerd, all grow heavily in that time they spend together. There were arguments, compromises, and deep conversations all over the place whenever they interacted with each other or other characters at the time, but it's over shadowed and forgotten about because of the fights. Eris was absolutely terrified of Ruijerd when she first encounters him because of all the stories that were spread overtime about his kind, but as their relationship develops, she grew to love him tremendously and even cried when he left the group. That's just one example of the MANY character arcs that you might have forgotten was there.;Then when you look at Rudeus himself, well, he speaks for itself. Anyone saying that his character hasn't changed from his S1 horny and harem seeking self just didn't watch the show at all. I mean there is a segment in this season where the S1 version of himself would pass out of excitement with nose bleeds all over the place, but this version of him would completely denounce and ridicule the idea of it.;In this season, it attempts to focus all of it's energy in developing characters rather than trying to weave in fight scenes to entertain the viewer which I really appreciate and I think they do a very good job at it. Even with the lesser side characters, they manage to portray their many feelings and perspectives on the many given situations. This anime isn't about how Rudeus and the gang will defeat the demon lord like in every other generic Isekai (even though I am very sure they will end up doing that). It's about how each and every character responds to certain situations and events and how they navigate around those issues, which again, was super present in the previous season, but now there is a much bigger focus on it and I love that.;If you like complex and well written character work based shows, then you should absolutely love this season. However, if you don't like that sort of thing, then I can understand why you would have such a different view when comparing the 2 seasons, but to say that this season is terrible and boring because there are very little action set pieces, is just disingenuous.\"}"
      ]
     },
     "execution_count": 39,
     "metadata": {},
     "output_type": "execute_result"
    }
   ],
   "source": [
    "review = Review(reviews_html[3])\n",
    "review.get_data()\n",
    "data = vars(review)\n",
    "data.pop('html')\n",
    "data"
   ]
  }
 ],
 "metadata": {
  "kernelspec": {
   "display_name": ".venv",
   "language": "python",
   "name": "python3"
  },
  "language_info": {
   "codemirror_mode": {
    "name": "ipython",
    "version": 3
   },
   "file_extension": ".py",
   "mimetype": "text/x-python",
   "name": "python",
   "nbconvert_exporter": "python",
   "pygments_lexer": "ipython3",
   "version": "3.9.13"
  }
 },
 "nbformat": 4,
 "nbformat_minor": 2
}
