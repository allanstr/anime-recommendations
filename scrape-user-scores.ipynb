{
 "cells": [
  {
   "cell_type": "code",
   "execution_count": 1,
   "metadata": {},
   "outputs": [],
   "source": [
    "import requests\n",
    "from bs4 import BeautifulSoup\n",
    "import pandas as pd\n",
    "import numpy as np\n",
    "import re\n",
    "import time\n",
    "from tqdm import tqdm\n",
    "import random\n",
    "import json\n",
    "from datetime import datetime\n",
    "import pathlib\n",
    "import os\n",
    "import chromedriver_autoinstaller\n",
    "from selenium import webdriver\n",
    "from selenium.webdriver.chrome.options import Options\n",
    "\n",
    "#chromedriver_autoinstaller.install()\n",
    "\n",
    "chrome_options = Options()\n",
    "chrome_options.add_argument(\"--headless\")"
   ]
  },
  {
   "cell_type": "code",
   "execution_count": 7,
   "metadata": {},
   "outputs": [],
   "source": [
    "class User:\n",
    "  def __init__(self, name):\n",
    "    self.Name = name\n",
    "    self.href = f'https://myanimelist.net/profile/{name}/statistics/anime-scores'\n",
    "    driver = webdriver.Chrome(options=chrome_options)\n",
    "    driver.get(self.href)\n",
    "    time.sleep(5) \n",
    "    self.html = BeautifulSoup(driver.page_source, 'html.parser')\n",
    "  \n",
    "  def get_user_scores(self):\n",
    "    try:\n",
    "      itens = self.html.find_all(class_='item')\n",
    "      animes = [int(item.find('a', href=True)['href'].split('/anime/')[1].split('/')[0]) for item in itens]\n",
    "      scores = [int(item.find(class_='user_score').get_text(strip=True)) for item in itens]\n",
    "      user_scores = dict(zip(animes, scores))\n",
    "      self.User_scores = user_scores\n",
    "    except:\n",
    "      self.User_scores = {}\n",
    "    \n",
    "    return user_scores"
   ]
  },
  {
   "cell_type": "code",
   "execution_count": 8,
   "metadata": {},
   "outputs": [
    {
     "data": {
      "text/plain": [
       "{51179: 1,\n",
       " 43299: 4,\n",
       " 10620: 4,\n",
       " 51096: 5,\n",
       " 23755: 5,\n",
       " 53356: 7,\n",
       " 39486: 10,\n",
       " 50416: 9,\n",
       " 53411: 8,\n",
       " 52578: 8,\n",
       " 49220: 7}"
      ]
     },
     "execution_count": 8,
     "metadata": {},
     "output_type": "execute_result"
    }
   ],
   "source": [
    "user = User('NikoFool')\n",
    "user.get_user_scores()"
   ]
  }
 ],
 "metadata": {
  "kernelspec": {
   "display_name": ".venv",
   "language": "python",
   "name": "python3"
  },
  "language_info": {
   "codemirror_mode": {
    "name": "ipython",
    "version": 3
   },
   "file_extension": ".py",
   "mimetype": "text/x-python",
   "name": "python",
   "nbconvert_exporter": "python",
   "pygments_lexer": "ipython3",
   "version": "3.9.13"
  }
 },
 "nbformat": 4,
 "nbformat_minor": 2
}
